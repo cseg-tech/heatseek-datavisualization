{
 "cells": [
  {
   "cell_type": "code",
   "execution_count": 4,
   "metadata": {},
   "outputs": [],
   "source": [
    "import pandas as pd"
   ]
  },
  {
   "cell_type": "markdown",
   "metadata": {},
   "source": [
    "Replace the CSV below with a cleaned and fuzzed CSV file as needed:"
   ]
  },
  {
   "cell_type": "code",
   "execution_count": 5,
   "metadata": {},
   "outputs": [],
   "source": [
    "df = pd.read_csv(\"../CSEG Tech - Heat Seek Data Visualization/data/heatseek_geocoded_severity.csv\")"
   ]
  },
  {
   "cell_type": "markdown",
   "metadata": {},
   "source": [
    "### Don't run the below code cells if there's a cleaned CSV already:\n",
    "I'm guessing we only need user_id, temp, created_at, outdoor_temp, violation, lat, lon so that's what I filtered for here."
   ]
  },
  {
   "cell_type": "code",
   "execution_count": 6,
   "metadata": {},
   "outputs": [
    {
     "data": {
      "text/html": [
       "<div>\n",
       "<style scoped>\n",
       "    .dataframe tbody tr th:only-of-type {\n",
       "        vertical-align: middle;\n",
       "    }\n",
       "\n",
       "    .dataframe tbody tr th {\n",
       "        vertical-align: top;\n",
       "    }\n",
       "\n",
       "    .dataframe thead th {\n",
       "        text-align: right;\n",
       "    }\n",
       "</style>\n",
       "<table border=\"1\" class=\"dataframe\">\n",
       "  <thead>\n",
       "    <tr style=\"text-align: right;\">\n",
       "      <th></th>\n",
       "      <th>user_id</th>\n",
       "      <th>address</th>\n",
       "      <th>zip_code</th>\n",
       "      <th>apartment</th>\n",
       "      <th>sensor_id</th>\n",
       "      <th>bbl</th>\n",
       "      <th>temp</th>\n",
       "      <th>created_at</th>\n",
       "      <th>outdoor_temp</th>\n",
       "      <th>violation</th>\n",
       "      <th>add_full</th>\n",
       "      <th>lat</th>\n",
       "      <th>lon</th>\n",
       "      <th>severity</th>\n",
       "    </tr>\n",
       "  </thead>\n",
       "  <tbody>\n",
       "    <tr>\n",
       "      <th>0</th>\n",
       "      <td>381.0</td>\n",
       "      <td>124 E 176th St</td>\n",
       "      <td>10453.0</td>\n",
       "      <td>6J</td>\n",
       "      <td>feather0090</td>\n",
       "      <td>2.028260e+09</td>\n",
       "      <td>66</td>\n",
       "      <td>2019-01-30 18:58:43-05:00</td>\n",
       "      <td>11.0</td>\n",
       "      <td>True</td>\n",
       "      <td>124 E 176th St, New York City, New York, USA</td>\n",
       "      <td>40.847928</td>\n",
       "      <td>-73.908931</td>\n",
       "      <td>2</td>\n",
       "    </tr>\n",
       "    <tr>\n",
       "      <th>1</th>\n",
       "      <td>390.0</td>\n",
       "      <td>1802 Ocean Parkway</td>\n",
       "      <td>11223.0</td>\n",
       "      <td>C4</td>\n",
       "      <td>feather0101</td>\n",
       "      <td>3.066810e+09</td>\n",
       "      <td>69</td>\n",
       "      <td>2019-01-30 18:58:19-05:00</td>\n",
       "      <td>14.0</td>\n",
       "      <td>False</td>\n",
       "      <td>1802 Ocean Parkway, New York City, New York, USA</td>\n",
       "      <td>40.604475</td>\n",
       "      <td>-73.967530</td>\n",
       "      <td>0</td>\n",
       "    </tr>\n",
       "    <tr>\n",
       "      <th>2</th>\n",
       "      <td>492.0</td>\n",
       "      <td>341 E 19th St</td>\n",
       "      <td>11226.0</td>\n",
       "      <td>3E</td>\n",
       "      <td>feather0118</td>\n",
       "      <td>3.051620e+09</td>\n",
       "      <td>68</td>\n",
       "      <td>2019-01-30 18:54:54-05:00</td>\n",
       "      <td>13.0</td>\n",
       "      <td>False</td>\n",
       "      <td>341 E 19th St, New York City, New York, USA</td>\n",
       "      <td>40.735065</td>\n",
       "      <td>-73.981193</td>\n",
       "      <td>0</td>\n",
       "    </tr>\n",
       "    <tr>\n",
       "      <th>3</th>\n",
       "      <td>389.0</td>\n",
       "      <td>4836 41st St</td>\n",
       "      <td>11104.0</td>\n",
       "      <td>2F</td>\n",
       "      <td>feather0024</td>\n",
       "      <td>4.002020e+09</td>\n",
       "      <td>50</td>\n",
       "      <td>2019-01-30 18:50:40-05:00</td>\n",
       "      <td>16.0</td>\n",
       "      <td>True</td>\n",
       "      <td>4836 41st St, New York City, New York, USA</td>\n",
       "      <td>40.738850</td>\n",
       "      <td>-73.924581</td>\n",
       "      <td>18</td>\n",
       "    </tr>\n",
       "    <tr>\n",
       "      <th>4</th>\n",
       "      <td>167.0</td>\n",
       "      <td>150 Court St</td>\n",
       "      <td>11201.0</td>\n",
       "      <td>NaN</td>\n",
       "      <td>feather0115</td>\n",
       "      <td>3.002920e+09</td>\n",
       "      <td>69</td>\n",
       "      <td>2019-01-30 18:50:16-05:00</td>\n",
       "      <td>14.0</td>\n",
       "      <td>False</td>\n",
       "      <td>150 Court St, New York City, New York, USA</td>\n",
       "      <td>40.688979</td>\n",
       "      <td>-73.992963</td>\n",
       "      <td>0</td>\n",
       "    </tr>\n",
       "  </tbody>\n",
       "</table>\n",
       "</div>"
      ],
      "text/plain": [
       "   user_id             address  zip_code apartment    sensor_id           bbl  \\\n",
       "0    381.0      124 E 176th St   10453.0        6J  feather0090  2.028260e+09   \n",
       "1    390.0  1802 Ocean Parkway   11223.0        C4  feather0101  3.066810e+09   \n",
       "2    492.0       341 E 19th St   11226.0        3E  feather0118  3.051620e+09   \n",
       "3    389.0        4836 41st St   11104.0        2F  feather0024  4.002020e+09   \n",
       "4    167.0        150 Court St   11201.0       NaN  feather0115  3.002920e+09   \n",
       "\n",
       "   temp                 created_at  outdoor_temp  violation  \\\n",
       "0    66  2019-01-30 18:58:43-05:00          11.0       True   \n",
       "1    69  2019-01-30 18:58:19-05:00          14.0      False   \n",
       "2    68  2019-01-30 18:54:54-05:00          13.0      False   \n",
       "3    50  2019-01-30 18:50:40-05:00          16.0       True   \n",
       "4    69  2019-01-30 18:50:16-05:00          14.0      False   \n",
       "\n",
       "                                           add_full        lat        lon  \\\n",
       "0      124 E 176th St, New York City, New York, USA  40.847928 -73.908931   \n",
       "1  1802 Ocean Parkway, New York City, New York, USA  40.604475 -73.967530   \n",
       "2       341 E 19th St, New York City, New York, USA  40.735065 -73.981193   \n",
       "3        4836 41st St, New York City, New York, USA  40.738850 -73.924581   \n",
       "4        150 Court St, New York City, New York, USA  40.688979 -73.992963   \n",
       "\n",
       "   severity  \n",
       "0         2  \n",
       "1         0  \n",
       "2         0  \n",
       "3        18  \n",
       "4         0  "
      ]
     },
     "execution_count": 6,
     "metadata": {},
     "output_type": "execute_result"
    }
   ],
   "source": [
    "df.head()"
   ]
  },
  {
   "cell_type": "code",
   "execution_count": 7,
   "metadata": {
    "scrolled": true
   },
   "outputs": [
    {
     "name": "stdout",
     "output_type": "stream",
     "text": [
      "<class 'pandas.core.frame.DataFrame'>\n",
      "RangeIndex: 135262 entries, 0 to 135261\n",
      "Data columns (total 14 columns):\n",
      "user_id         135200 non-null float64\n",
      "address         135200 non-null object\n",
      "zip_code        135200 non-null float64\n",
      "apartment       125657 non-null object\n",
      "sensor_id       135262 non-null object\n",
      "bbl             82913 non-null float64\n",
      "temp            135262 non-null int64\n",
      "created_at      135262 non-null object\n",
      "outdoor_temp    134257 non-null float64\n",
      "violation       135262 non-null bool\n",
      "add_full        135262 non-null object\n",
      "lat             135262 non-null float64\n",
      "lon             135262 non-null float64\n",
      "severity        135262 non-null int64\n",
      "dtypes: bool(1), float64(6), int64(2), object(5)\n",
      "memory usage: 13.5+ MB\n"
     ]
    }
   ],
   "source": [
    "df.info()"
   ]
  },
  {
   "cell_type": "code",
   "execution_count": 8,
   "metadata": {},
   "outputs": [],
   "source": [
    "df = df.filter(['user_id', 'temp', 'created_at', 'outdoor_temp', 'violation', 'lat', 'lon', 'severity'])"
   ]
  },
  {
   "cell_type": "markdown",
   "metadata": {},
   "source": [
    "### Turn dataframe to JSON\n",
    "Edit orient option as necessary: https://pandas.pydata.org/pandas-docs/stable/reference/api/pandas.DataFrame.to_json.html"
   ]
  },
  {
   "cell_type": "code",
   "execution_count": 10,
   "metadata": {},
   "outputs": [],
   "source": [
    "df.to_json(\"../CSEG Tech - Heat Seek Data Visualization/data/map-data-severity.json\", orient='records')"
   ]
  },
  {
   "cell_type": "code",
   "execution_count": null,
   "metadata": {},
   "outputs": [],
   "source": []
  },
  {
   "cell_type": "code",
   "execution_count": null,
   "metadata": {},
   "outputs": [],
   "source": []
  },
  {
   "cell_type": "code",
   "execution_count": null,
   "metadata": {},
   "outputs": [],
   "source": []
  }
 ],
 "metadata": {
  "kernelspec": {
   "display_name": "Python 3",
   "language": "python",
   "name": "python3"
  },
  "language_info": {
   "codemirror_mode": {
    "name": "ipython",
    "version": 3
   },
   "file_extension": ".py",
   "mimetype": "text/x-python",
   "name": "python",
   "nbconvert_exporter": "python",
   "pygments_lexer": "ipython3",
   "version": "3.7.1"
  }
 },
 "nbformat": 4,
 "nbformat_minor": 2
}
